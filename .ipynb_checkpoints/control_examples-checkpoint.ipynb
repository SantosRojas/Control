{
 "cells": [
  {
   "cell_type": "code",
   "execution_count": 2,
   "id": "c913428a",
   "metadata": {},
   "outputs": [],
   "source": [
    "from scipy.signal import lti\n",
    "import numpy as np\n",
    "import matplotlib.pyplot as plt"
   ]
  },
  {
   "cell_type": "code",
   "execution_count": 3,
   "id": "1d370275",
   "metadata": {},
   "outputs": [],
   "source": [
    "def tf(num,den,r=0,method='Pade'):\n",
    "    if r>0:\n",
    "        if method=='Pade':\n",
    "            num_p=[(r)**2,-6*r,12]\n",
    "            den_p=[(r)**2,+6*r,12]\n",
    "            num=np.convolve(num,num_p)\n",
    "            den=np.convolve(den,den_p)\n",
    "        if method=='AR':\n",
    "            num_p=[0.0783*(r)**2,-0.4986*r,1]\n",
    "            den_p=[0.0783*(r)**2,+0.4986*r,1]\n",
    "            num=np.convolve(num,num_p)\n",
    "            den=np.convolve(den,den_p)\n",
    "        \n",
    "        if method=='ARop':\n",
    "            num_p=[0.091*(r)**2,-0.496*r,1]\n",
    "            den_p=[0.091*(r)**2,+0.496*r,1]\n",
    "            num=np.convolve(num,num_p)\n",
    "            den=np.convolve(den,den_p)\n",
    "            \n",
    "    return lti(num,den)\n",
    "    \n",
    "def serie(sys1,sys2):\n",
    "    '''\n",
    "    sys1 y sys2 son scipy.signal.lti\n",
    "    '''\n",
    "    num=np.convolve(sys1.num,sys2.num)\n",
    "    den=np.convolve(sys1.den,sys2.den)\n",
    "    return lti(num,den)\n",
    "\n",
    "def feedback(sys1,sys2):\n",
    "    '''\n",
    "    sys1 y sys2 son scipy.signal.lti\n",
    "    sys1: Funcion de transferencia de camino directo\n",
    "    sys2:Funcion de transferencia de realimentacion negativa\n",
    "    '''\n",
    "    num=np.convolve(sys1.num,sys2.den)\n",
    "    den=np.convolve(sys1.num,sys2.num)+np.convolve(sys1.den,sys2.den)\n",
    "    return lti(num,den)\n",
    "\n",
    "def plot_step(*args, T=None, N=None,cs=3,params='vs',plot_params=False,legend_params=False,only_params=False,text_params=False,**kwargs):\n",
    "    '''\n",
    "    sys es scipy.signal.lti\n",
    "    \n",
    "    \n",
    "    cs:cifras significativas.\n",
    "    \n",
    "    *args: [sys,{X0:X0,\n",
    "                    c:color,\n",
    "                    lw:linewidth,\n",
    "                    label:label}]\n",
    "                    \n",
    "                    \n",
    "    X0: Estado inicial del sistema\n",
    "\n",
    "    T:[ti,tf,n] Vector de tiempo (lista).\n",
    "\n",
    "    N: Numero de puntos de T.\n",
    "    \n",
    "    '''\n",
    "    #=====================Inicializacion de vaiables=======\n",
    "    args_plot={'title':'Respuesta al escalon unitario','xlabel':'Tiempo(S)','ylabel':'Magnitud','loc':'best'}\n",
    "    for key,value in kwargs.items():\n",
    "        if key in args_plot.keys():\n",
    "            args_plot[key]=kwargs[key]\n",
    "        else:\n",
    "            raise ValueError(f'''La llave {key} es desconocida. Utilizar 'title','xlabel','ylabel','loc' ''')\n",
    "\n",
    "    \n",
    "    if not T is None:\n",
    "        if T[1]<T[0]:\n",
    "            raise ValueError('El valor de tf debe ser mayor a ti en T=[ti,tf,n]')\n",
    "        else:\n",
    "            T=np.linspace(T[0],T[1],T[2])\n",
    "        \n",
    "    prms=['tp','ts','vp','mp','tl','vs']\n",
    "    c=['b','r','g','c','m','y']\n",
    "    labels=[]\n",
    "    keys=['X0','lw','label','c']\n",
    "    SYS=[]#lista de funciones de transferencia\n",
    "    ARG=[]#lista de argumentos para las graficas\n",
    "    Tx=[]\n",
    "    Yx=[]\n",
    "    Tp=[]\n",
    "    Ts=[]\n",
    "    Vp=[]\n",
    "    Vs=[]\n",
    "\n",
    "    #===============Verificacion de los parametros ingresados=====\n",
    "    if not params is None:\n",
    "        list_params=params.split(',')\n",
    "        \n",
    "        if len(list_params)==1:\n",
    "            if list_params[0]=='all':\n",
    "                list_params=prms\n",
    "            elif list_params[0] in prms:\n",
    "                pass\n",
    "            else:\n",
    "                raise ValueError(f'El parametro {list_params[0]} es desconocido, utilizar tp,ts,vp,mp,vs,tl')\n",
    "        else:\n",
    "            for i in list_params:\n",
    "                if not i in prms:\n",
    "                    raise ValueError(f'El parametro {list_params[0]} es desconocido, utilizar tp,ts,vp,mp,vs,tl')\n",
    "                    \n",
    "    else:\n",
    "        list_params=[]\n",
    "    \n",
    "        \n",
    "    \n",
    "    #====================Separamos tf de  parametros===================\n",
    "    for s in args:\n",
    "        try:\n",
    "            if len(s)>1:\n",
    "                SYS.append(s[0])\n",
    "                ARG.append(s[1])\n",
    "            else:\n",
    "                SYS.append(s[0])\n",
    "                ARG.append({'X0':None})\n",
    "        except:\n",
    "            SYS.append(s)\n",
    "            ARG.append({'X0':None})\n",
    "            \n",
    "      \n",
    "        \n",
    "    #====================Generamos una lista de labels por default===================\n",
    "    for n in range(len(SYS)):\n",
    "        labels.append(f'Resp_tem_{n+1}')\n",
    "        \n",
    "    #====================Limpiamos los argumentos===================\n",
    "    n=0\n",
    "    for i in ARG:\n",
    "        if not 'X0' in i:\n",
    "            i['X0']=None\n",
    "\n",
    "        if not 'c' in i:\n",
    "            i['c']=c[n]\n",
    "            \n",
    "        if not 'label' in i:\n",
    "            i['label']=labels[n]\n",
    "            \n",
    "        if not 'lw' in i:\n",
    "            i['lw']=1.5\n",
    "            \n",
    "        n+=1\n",
    "    #====================Calculos de los parametros===================\n",
    "    \n",
    "    for i,sys in enumerate(SYS):\n",
    "        t,y=sys.step(X0=ARG[i]['X0'],T=T,N=N)\n",
    "        y_r=list(y)\n",
    "        t_r=list(t)\n",
    "        t_r.reverse()\n",
    "        y_r.reverse()\n",
    "        if text_params:\n",
    "            print(f\"=========== Parametros de {labels[i]} ===============\")\n",
    "            \n",
    "        if 'tp' in list_params:\n",
    "            tp=round(t[list(y).index(y.max())],cs)#tiempo pico\n",
    "            Tp.append(tp)\n",
    "            if text_params:\n",
    "                print(f'Tiempo pico(S) = {tp}')\n",
    "            \n",
    "        if 'ts' in list_params:\n",
    "            vs=sys.num[-1]/sys.den[-1]\n",
    "            g=round(abs(vs-y[0]),cs)\n",
    "            ts=0 #tiempo de establecimiento\n",
    "            for k,l in zip(y_r,t_r):\n",
    "                try:\n",
    "                    if abs(k-g)<=0.02*g:\n",
    "                        ts=l\n",
    "                    else:\n",
    "                        ts=round(ts,cs)\n",
    "                        break\n",
    "                except Exception as e:\n",
    "                    raise ValueError('El sistema es inestable')\n",
    "            Ts.append(ts)\n",
    "            if text_params:\n",
    "                print(f'Tiempo de establecimiento(S) = {ts}')\n",
    "            \n",
    "        if 'tl' in list_params:\n",
    "            vs=sys.num[-1]/sys.den[-1]\n",
    "            try:\n",
    "                for k,l in zip(y,t):\n",
    "                    if k<=vs*0.1:\n",
    "                        tli=l\n",
    "                    else:\n",
    "                        tli=round(tli,cs)\n",
    "                        break\n",
    "                for k,l in zip(y,t):\n",
    "                    if k<=vs*0.9:\n",
    "                        tlf=l\n",
    "                    else:\n",
    "                        tlf=round(tlf,cs)\n",
    "                        break\n",
    "                        \n",
    "                tl=tlf-tli \n",
    "                tl=round(tl,cs)#Tiempo de levantamiento\n",
    "                if text_params:\n",
    "                    print(f'Tiempo de levantamiento = {tl}')\n",
    "                \n",
    "            except Exception as e:\n",
    "                raise ValueError(\"El sistema no presenta un tiempo de levantamiento\")\n",
    "                \n",
    "        if 'mp' in list_params:\n",
    "            mp=abs(y.max()-vs)/vs\n",
    "            mp=round(mp,cs)#Maximo sobreimpulso\n",
    "            if text_params:\n",
    "                print(f'Maximo sobreimpulso = {mp}')\n",
    "        \n",
    "        if 'vp' in list_params:\n",
    "            vp=round(y.max(),cs)\n",
    "            Vp.append(vp)\n",
    "            if text_params:\n",
    "                print(f'Valor pico = {vp}')\n",
    "        \n",
    "        if 'g' in list_params:\n",
    "            g=round(abs(vs-y[0]),cs)#ganancia\n",
    "            if text_params:\n",
    "                print('Ganancia = ',g)\n",
    "            \n",
    "        if 'vs' in list_params:\n",
    "            vs=sys.num[-1]/sys.den[-1]\n",
    "            vs=round(vs,cs)#valor estable\n",
    "            Vs.append(vs)\n",
    "            if text_params:\n",
    "                print('Valor estable = ',vs)\n",
    "            \n",
    "        \n",
    "        if not only_params:\n",
    "            Tx.append(t)\n",
    "            Yx.append(y)\n",
    "            \n",
    "        \n",
    "        \n",
    "    if not only_params:\n",
    "        for i in range(len(SYS)):\n",
    "            plt.plot(Tx[i],Yx[i],ARG[i]['c'],label=ARG[i]['label'],linewidth=ARG[i]['lw'])\n",
    "\n",
    "            if legend_params:\n",
    "                legends=[]\n",
    "                if 'vp' in list_params:\n",
    "                    legends.append(f'$Vp{i+1}={Vp[i]}$')\n",
    "                else:\n",
    "                    legends.append(None)\n",
    "                    \n",
    "                if 'tp' in list_params:\n",
    "                    legends.append(f'$tp{i+1}={Tp[i]}$')\n",
    "                else:\n",
    "                    legends.append(None)\n",
    "                \n",
    "                if 'ts' in list_params:\n",
    "                    legends.append(f'$ts{i+1}={Ts[i]}$')\n",
    "                else:\n",
    "                    legends.append(None)\n",
    "                    \n",
    "            else:\n",
    "                legends=[None]*3\n",
    "            \n",
    "            \n",
    "            if 'vs' in list_params:\n",
    "                plt.plot([Tx[i][0],Tx[i][-1]],[Vs[i]]*2,'grey',linestyle='dotted')\n",
    "            if 'vp' in list_params:\n",
    "                plt.plot([Tx[i][0],Tp[i]],[Vp[i]]*2,'-.',label=legends[0])\n",
    "            if 'tp' in list_params:\n",
    "                plt.plot([Tp[i]]*2,[Yx[i][0],Yx[i].max()],'-.',label=legends[1])\n",
    "            if 'ts' in list_params:\n",
    "                plt.plot([Ts[i]]*2,[Yx[i][0],Yx[i][-1]],'-.',label=legends[2])\n",
    "        \n",
    "        plt.plot([Tx[0][0],Tx[i][-1]],[1]*2,,'k',label='Setpoint')\n",
    "        plt.title(args_plot['title'])\n",
    "        plt.xlabel(args_plot['xlabel'])\n",
    "        plt.ylabel(args_plot['ylabel'])\n",
    "        plt.legend(loc=args_plot['loc'])\n",
    "        plt.show()\n"
   ]
  },
  {
   "cell_type": "code",
   "execution_count": 4,
   "id": "510d2cbe",
   "metadata": {},
   "outputs": [],
   "source": [
    "sys=tf([2],[1,0.8,0.8],0.2)\n",
    "sys1=tf([2],[1,0.8,2],1)\n",
    "sys2=tf([1],[1,0.1,1])\n"
   ]
  },
  {
   "cell_type": "code",
   "execution_count": 13,
   "id": "d73e6812",
   "metadata": {},
   "outputs": [],
   "source": [
    "%matplotlib notebook"
   ]
  },
  {
   "cell_type": "code",
   "execution_count": 5,
   "id": "dbd0987c",
   "metadata": {},
   "outputs": [
    {
     "data": {
      "image/png": "[encoded data removed]",
      "text/plain": [
       "<Figure size 432x288 with 1 Axes>"
      ]
     },
     "metadata": {
      "needs_background": "light"
     },
     "output_type": "display_data"
    }
   ],
   "source": [
    "plot_step(sys1,params='tp,ts',legend_params=True,title='Grafica',xlabel='Tiempo')"
   ]
  },
  {
   "cell_type": "code",
   "execution_count": 66,
   "id": "07c6ccdc",
   "metadata": {},
   "outputs": [
    {
     "data": {
      "text/plain": [
       "array([1., 0.])"
      ]
     },
     "execution_count": 66,
     "metadata": {},
     "output_type": "execute_result"
    }
   ],
   "source": [
    "np.linspace(1,0,2)"
   ]
  },
  {
   "cell_type": "code",
   "execution_count": 2,
   "id": "6f37f9d3",
   "metadata": {},
   "outputs": [],
   "source": [
    "import control as cn"
   ]
  },
  {
   "cell_type": "code",
   "execution_count": 3,
   "id": "83fc05f2",
   "metadata": {},
   "outputs": [],
   "source": [
    "sys=cn.tf(1,[0.5,1])\n",
    "sys1=cn.tf(1,[0.7,1])"
   ]
  },
  {
   "cell_type": "code",
   "execution_count": 6,
   "id": "e9abe463",
   "metadata": {
    "scrolled": true
   },
   "outputs": [
    {
     "data": {
      "image/png": "[encoded data removed]",
      "text/plain": [
       "<Figure size 432x288 with 1 Axes>"
      ]
     },
     "metadata": {
      "needs_background": "light"
     },
     "output_type": "display_data"
    }
   ],
   "source": [
    "cn.plot_step(sys,sys1,title='Respuesta dinamica de los reactores 1 y 2',xlabel='x')"
   ]
  },
  {
   "cell_type": "code",
   "execution_count": 7,
   "id": "7320442e",
   "metadata": {},
   "outputs": [
    {
     "ename": "SyntaxError",
     "evalue": "invalid syntax (3884655750.py, line 1)",
     "output_type": "error",
     "traceback": [
      "\u001b[0;36m  Input \u001b[0;32mIn [7]\u001b[0;36m\u001b[0m\n\u001b[0;31m    def fun((a,**kwargs)):\u001b[0m\n\u001b[0m            ^\u001b[0m\n\u001b[0;31mSyntaxError\u001b[0m\u001b[0;31m:\u001b[0m invalid syntax\n"
     ]
    }
   ],
   "source": [
    "def fun((a,**kwargs)):\n",
    "    print(kwargs)"
   ]
  },
  {
   "cell_type": "markdown",
   "id": "2321168a",
   "metadata": {},
   "source": [
    "$(kp+\\frac{ki}{s})(e)$"
   ]
  },
  {
   "cell_type": "code",
   "execution_count": null,
   "id": "c5bc7d70",
   "metadata": {},
   "outputs": [],
   "source": []
  }
 ],
 "metadata": {
  "kernelspec": {
   "display_name": "Python 3 (ipykernel)",
   "language": "python",
   "name": "python3"
  },
  "language_info": {
   "codemirror_mode": {
    "name": "ipython",
    "version": 3
   },
   "file_extension": ".py",
   "mimetype": "text/x-python",
   "name": "python",
   "nbconvert_exporter": "python",
   "pygments_lexer": "ipython3",
   "version": "3.10.5"
  }
 },
 "nbformat": 4,
 "nbformat_minor": 5
}
